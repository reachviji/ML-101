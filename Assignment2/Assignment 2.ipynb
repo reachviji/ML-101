{
 "cells": [
  {
   "cell_type": "code",
   "execution_count": 1,
   "metadata": {},
   "outputs": [
    {
     "name": "stdout",
     "output_type": "stream",
     "text": [
      "Array using np.array: [[34 56]\n",
      " [56 76]]\n",
      "Array using np.arange : [0 1 2]\n",
      "Array using np.linspace : [10.    8.75  7.5   6.25  5.  ]\n"
     ]
    }
   ],
   "source": [
    "# Create an array using the method 1. array 2. arange 3. linspace\n",
    "import numpy as np\n",
    "a = np.array([[34,56],[56,76]])\n",
    "a_arange = np.arange(3)\n",
    "a_linspace = np.linspace(10,5,5)\n",
    "\n",
    "print('Array using np.array: {}'.format(a))\n",
    "print('Array using np.arange : {}'.format(a_arange))\n",
    "print('Array using np.linspace : {}'.format(a_linspace))\n"
   ]
  },
  {
   "cell_type": "code",
   "execution_count": 2,
   "metadata": {},
   "outputs": [
    {
     "name": "stdout",
     "output_type": "stream",
     "text": [
      "Shape of the array is: (4, 2)\n",
      "Dimensions of array is: 2\n",
      "Length of the array is: 4\n"
     ]
    }
   ],
   "source": [
    "#Identify the shape and dimensions of an array\n",
    "\n",
    "a = np.array([[2,3],[3,4],[4,5],[89,78]])\n",
    "# Shape of the array\n",
    "print('Shape of the array is: {}'.format(a.shape))\n",
    "print('Dimensions of array is: {}'.format(a.ndim))\n",
    "print('Length of the array is: {}'.format(len(a)))"
   ]
  },
  {
   "cell_type": "code",
   "execution_count": 3,
   "metadata": {},
   "outputs": [
    {
     "name": "stdout",
     "output_type": "stream",
     "text": [
      "Replacing the values which are multiples of 5 by -1 using fancy indexing are: [ 1 -1 -1  4 -1 -1  7 -1]\n"
     ]
    }
   ],
   "source": [
    "#Replace the values which are multiples of 5 by -1 using fancy indexing in [1,5,10,4,15,20,7,35]\n",
    "a = np.array([1,5,10,4,15,20,7,35])\n",
    "mask = (a%5 == 0)\n",
    "a[mask] = -1\n",
    "print('Replacing the values which are multiples of 5 by -1 using fancy indexing are: {}'.format(a))"
   ]
  },
  {
   "cell_type": "code",
   "execution_count": 4,
   "metadata": {},
   "outputs": [
    {
     "name": "stdout",
     "output_type": "stream",
     "text": [
      "Sum of elements in single dimension array is: 148\n",
      "Sum of elements in two dimension array is: [98 90]\n"
     ]
    }
   ],
   "source": [
    "# Create a array and find out the sum of the elements\n",
    "# Single Dim array\n",
    "sing_dim = np.array([12,34,45,57])\n",
    "# Sum of the elements\n",
    "print('Sum of elements in single dimension array is: {}'.format(np.sum(sing_dim)))\n",
    "\n",
    "# Two Dimension array\n",
    "two_dim = np.array([[2,3],[3,4],[4,5],[89,78]])\n",
    "# Sum of the elements in the array\n",
    "print('Sum of elements in two dimension array is: {}'.format(np.sum(two_dim,axis = 0)))\n"
   ]
  },
  {
   "cell_type": "code",
   "execution_count": 5,
   "metadata": {},
   "outputs": [
    {
     "name": "stdout",
     "output_type": "stream",
     "text": [
      "The given array is: [[1 2 3 4]]\n",
      "The shape of given array is: (1, 4)\n",
      "The dimensions of given array is: 2\n",
      "\n",
      "Changed array: \n",
      "The new array is: [1 2 3 4]\n",
      "The shape of the new array is: (4,)\n",
      "The dimensions of new array is: 1\n",
      "\n",
      "Conclusion: ravel method is used to reshape the array.\n",
      "Syntax is: numpy.ravel(a, order= C) where it returns a contiguous flattened array \n",
      "There are other orders like A,F or K which can be used depending on the business case\n"
     ]
    }
   ],
   "source": [
    "# Reshape an array np.array([1, 2, 3, 4], ndmin=2) using ravel and identify the shape, dimensions and write your conclusions\n",
    "# This is a two dimensional array\n",
    "a = np.array([1, 2, 3, 4], ndmin=2) \n",
    "print('The given array is: {}'.format(a))\n",
    "print('The shape of given array is: {}'.format(a.shape))\n",
    "print('The dimensions of given array is: {}'.format(a.ndim))\n",
    "print()\n",
    "# Changing it to one dimensional array using ravel\n",
    "new_a = a.ravel()\n",
    "# find out the new array, its shape, dimensions\n",
    "print('Changed array: ')\n",
    "print('The new array is: {}'.format(new_a))\n",
    "print('The shape of the new array is: {}'.format(new_a.shape))\n",
    "print('The dimensions of new array is: {}'.format(new_a.ndim))\n",
    "print()\n",
    "print('Conclusion: ravel method is used to reshape the array.\\nSyntax is: numpy.ravel(a, order= C) where it returns a contiguous flattened array \\nThere are other orders like A,F or K which can be used depending on the business case')\n"
   ]
  },
  {
   "cell_type": "code",
   "execution_count": 6,
   "metadata": {},
   "outputs": [
    {
     "name": "stdout",
     "output_type": "stream",
     "text": [
      "The unique elements in a are: [2]\n"
     ]
    }
   ],
   "source": [
    "# How to remove from one array those items that exist in another? a = np.array([1, 2, 3, 4, 5]) b = np.array([5, 6, 3, 1, 4])\n",
    "a = np.array([1, 2, 3, 4, 5])\n",
    "b = np.array([5, 6, 3, 1, 4])\n",
    "\n",
    "# Remove from a those elements that exists in b and display a.\n",
    "# We will use np.isin method to achive this\n",
    "mask = np.isin(a,b)\n",
    "print('The unique elements in a are: {}'.format(a[~mask]))"
   ]
  },
  {
   "cell_type": "code",
   "execution_count": null,
   "metadata": {},
   "outputs": [],
   "source": [
    "# Pandas"
   ]
  },
  {
   "cell_type": "code",
   "execution_count": 7,
   "metadata": {},
   "outputs": [
    {
     "name": "stdout",
     "output_type": "stream",
     "text": [
      "combining two series into a dictionary, we get:\n",
      " {'a': 0, 'b': 1, 'c': 2, 'e': 3, 'd': 4, 'f': 5, 'g': 6, 'h': 7, 'i': 8, 'j': 9, 'k': 10, 'l': 11, 'm': 12, 'n': 13, 'o': 14, 'p': 15, 'q': 16, 'r': 17, 's': 18, 't': 19, 'u': 20, 'v': 21, 'w': 22, 'x': 23, 'y': 24, 'z': 25}\n"
     ]
    }
   ],
   "source": [
    "# How to combine two series into a dict \n",
    "import pandas as pd\n",
    "ser1 = pd.Series(list('abcedfghijklmnopqrstuvwxyz')) \n",
    "ser2 = pd.Series(np.arange(26))\n",
    "print('combining two series into a dictionary, we get:\\n {}'.format(dict(zip(ser1,ser2))))"
   ]
  },
  {
   "cell_type": "code",
   "execution_count": 10,
   "metadata": {},
   "outputs": [
    {
     "name": "stdout",
     "output_type": "stream",
     "text": [
      "The values are shown below: \n"
     ]
    },
    {
     "data": {
      "text/plain": [
       "count    25.000000\n",
       "mean     11.145509\n",
       "std       4.366402\n",
       "min       3.576613\n",
       "25%       7.798002\n",
       "50%      11.206973\n",
       "75%      14.021489\n",
       "max      18.686886\n",
       "dtype: float64"
      ]
     },
     "execution_count": 10,
     "metadata": {},
     "output_type": "execute_result"
    }
   ],
   "source": [
    "# How to get the minimum, 25th percentile, median, 75th, and max of a numeric series?\n",
    "a = pd.Series(np.random.normal(10, 5, 25))\n",
    "# print('The values generated in the series are:\\n {}'.format(a))\n",
    "# print('Minimum value of the series is : {}'.format(a.min()))\n",
    "value = a.describe()\n",
    "print('The values are shown below: ')\n",
    "value"
   ]
  },
  {
   "cell_type": "code",
   "execution_count": 9,
   "metadata": {},
   "outputs": [
    {
     "data": {
      "text/html": [
       "<div>\n",
       "<style scoped>\n",
       "    .dataframe tbody tr th:only-of-type {\n",
       "        vertical-align: middle;\n",
       "    }\n",
       "\n",
       "    .dataframe tbody tr th {\n",
       "        vertical-align: top;\n",
       "    }\n",
       "\n",
       "    .dataframe thead th {\n",
       "        text-align: right;\n",
       "    }\n",
       "</style>\n",
       "<table border=\"1\" class=\"dataframe\">\n",
       "  <thead>\n",
       "    <tr style=\"text-align: right;\">\n",
       "      <th></th>\n",
       "      <th>Value</th>\n",
       "    </tr>\n",
       "  </thead>\n",
       "  <tbody>\n",
       "    <tr>\n",
       "      <th>0</th>\n",
       "      <td>6</td>\n",
       "    </tr>\n",
       "    <tr>\n",
       "      <th>1</th>\n",
       "      <td>4</td>\n",
       "    </tr>\n",
       "    <tr>\n",
       "      <th>2</th>\n",
       "      <td>7</td>\n",
       "    </tr>\n",
       "    <tr>\n",
       "      <th>3</th>\n",
       "      <td>6</td>\n",
       "    </tr>\n",
       "    <tr>\n",
       "      <th>4</th>\n",
       "      <td>6</td>\n",
       "    </tr>\n",
       "    <tr>\n",
       "      <th>5</th>\n",
       "      <td>8</td>\n",
       "    </tr>\n",
       "    <tr>\n",
       "      <th>6</th>\n",
       "      <td>8</td>\n",
       "    </tr>\n",
       "    <tr>\n",
       "      <th>7</th>\n",
       "      <td>4</td>\n",
       "    </tr>\n",
       "    <tr>\n",
       "      <th>8</th>\n",
       "      <td>3</td>\n",
       "    </tr>\n",
       "    <tr>\n",
       "      <th>9</th>\n",
       "      <td>9</td>\n",
       "    </tr>\n",
       "    <tr>\n",
       "      <th>10</th>\n",
       "      <td>6</td>\n",
       "    </tr>\n",
       "    <tr>\n",
       "      <th>11</th>\n",
       "      <td>5</td>\n",
       "    </tr>\n",
       "    <tr>\n",
       "      <th>12</th>\n",
       "      <td>3</td>\n",
       "    </tr>\n",
       "    <tr>\n",
       "      <th>13</th>\n",
       "      <td>5</td>\n",
       "    </tr>\n",
       "    <tr>\n",
       "      <th>14</th>\n",
       "      <td>3</td>\n",
       "    </tr>\n",
       "    <tr>\n",
       "      <th>15</th>\n",
       "      <td>4</td>\n",
       "    </tr>\n",
       "    <tr>\n",
       "      <th>16</th>\n",
       "      <td>1</td>\n",
       "    </tr>\n",
       "    <tr>\n",
       "      <th>17</th>\n",
       "      <td>2</td>\n",
       "    </tr>\n",
       "    <tr>\n",
       "      <th>18</th>\n",
       "      <td>2</td>\n",
       "    </tr>\n",
       "    <tr>\n",
       "      <th>19</th>\n",
       "      <td>3</td>\n",
       "    </tr>\n",
       "    <tr>\n",
       "      <th>20</th>\n",
       "      <td>5</td>\n",
       "    </tr>\n",
       "    <tr>\n",
       "      <th>21</th>\n",
       "      <td>1</td>\n",
       "    </tr>\n",
       "    <tr>\n",
       "      <th>22</th>\n",
       "      <td>8</td>\n",
       "    </tr>\n",
       "    <tr>\n",
       "      <th>23</th>\n",
       "      <td>7</td>\n",
       "    </tr>\n",
       "    <tr>\n",
       "      <th>24</th>\n",
       "      <td>5</td>\n",
       "    </tr>\n",
       "    <tr>\n",
       "      <th>25</th>\n",
       "      <td>9</td>\n",
       "    </tr>\n",
       "    <tr>\n",
       "      <th>26</th>\n",
       "      <td>6</td>\n",
       "    </tr>\n",
       "    <tr>\n",
       "      <th>27</th>\n",
       "      <td>9</td>\n",
       "    </tr>\n",
       "    <tr>\n",
       "      <th>28</th>\n",
       "      <td>7</td>\n",
       "    </tr>\n",
       "    <tr>\n",
       "      <th>29</th>\n",
       "      <td>8</td>\n",
       "    </tr>\n",
       "    <tr>\n",
       "      <th>30</th>\n",
       "      <td>5</td>\n",
       "    </tr>\n",
       "    <tr>\n",
       "      <th>31</th>\n",
       "      <td>6</td>\n",
       "    </tr>\n",
       "    <tr>\n",
       "      <th>32</th>\n",
       "      <td>5</td>\n",
       "    </tr>\n",
       "    <tr>\n",
       "      <th>33</th>\n",
       "      <td>5</td>\n",
       "    </tr>\n",
       "    <tr>\n",
       "      <th>34</th>\n",
       "      <td>6</td>\n",
       "    </tr>\n",
       "  </tbody>\n",
       "</table>\n",
       "</div>"
      ],
      "text/plain": [
       "    Value\n",
       "0       6\n",
       "1       4\n",
       "2       7\n",
       "3       6\n",
       "4       6\n",
       "5       8\n",
       "6       8\n",
       "7       4\n",
       "8       3\n",
       "9       9\n",
       "10      6\n",
       "11      5\n",
       "12      3\n",
       "13      5\n",
       "14      3\n",
       "15      4\n",
       "16      1\n",
       "17      2\n",
       "18      2\n",
       "19      3\n",
       "20      5\n",
       "21      1\n",
       "22      8\n",
       "23      7\n",
       "24      5\n",
       "25      9\n",
       "26      6\n",
       "27      9\n",
       "28      7\n",
       "29      8\n",
       "30      5\n",
       "31      6\n",
       "32      5\n",
       "33      5\n",
       "34      6"
      ]
     },
     "execution_count": 9,
     "metadata": {},
     "output_type": "execute_result"
    }
   ],
   "source": [
    "#  How to convert a numpy array to a dataframe of given shape? \n",
    "a = pd.Series(np.random.randint(1, 10, 35))\n",
    "df = pd.DataFrame({'Value':a})\n",
    "df\n"
   ]
  },
  {
   "cell_type": "code",
   "execution_count": 11,
   "metadata": {},
   "outputs": [
    {
     "name": "stdout",
     "output_type": "stream",
     "text": [
      "Length of the letter how in index 0 is: 3\n",
      "Length of the letter to in index 1 is: 2\n",
      "Length of the letter kick in index 2 is: 4\n",
      "Length of the letter ass? in index 3 is: 4\n"
     ]
    }
   ],
   "source": [
    "# How to calculate the number of characters in each word in a series?\n",
    "series = pd.Series(['how', 'to', 'kick', 'ass?'])\n",
    "count = 0\n",
    "while count < len(series):\n",
    "    print('Length of the letter {} in index {} is: {}'.format(series[count],count,len(series[count])))\n",
    "    count = count + 1\n",
    "                                "
   ]
  },
  {
   "cell_type": "code",
   "execution_count": 12,
   "metadata": {},
   "outputs": [
    {
     "data": {
      "text/html": [
       "<div>\n",
       "<style scoped>\n",
       "    .dataframe tbody tr th:only-of-type {\n",
       "        vertical-align: middle;\n",
       "    }\n",
       "\n",
       "    .dataframe tbody tr th {\n",
       "        vertical-align: top;\n",
       "    }\n",
       "\n",
       "    .dataframe thead th {\n",
       "        text-align: right;\n",
       "    }\n",
       "</style>\n",
       "<table border=\"1\" class=\"dataframe\">\n",
       "  <thead>\n",
       "    <tr style=\"text-align: right;\">\n",
       "      <th></th>\n",
       "      <th>day</th>\n",
       "      <th>temperature</th>\n",
       "      <th>windspeed</th>\n",
       "      <th>event</th>\n",
       "    </tr>\n",
       "  </thead>\n",
       "  <tbody>\n",
       "    <tr>\n",
       "      <th>0</th>\n",
       "      <td>1/1/2017</td>\n",
       "      <td>32</td>\n",
       "      <td>6</td>\n",
       "      <td>Rain</td>\n",
       "    </tr>\n",
       "    <tr>\n",
       "      <th>1</th>\n",
       "      <td>1/2/2017</td>\n",
       "      <td>35</td>\n",
       "      <td>7</td>\n",
       "      <td>Sunny</td>\n",
       "    </tr>\n",
       "    <tr>\n",
       "      <th>2</th>\n",
       "      <td>1/3/2017</td>\n",
       "      <td>28</td>\n",
       "      <td>2</td>\n",
       "      <td>Snow</td>\n",
       "    </tr>\n",
       "    <tr>\n",
       "      <th>3</th>\n",
       "      <td>1/4/2017</td>\n",
       "      <td>24</td>\n",
       "      <td>7</td>\n",
       "      <td>Snow</td>\n",
       "    </tr>\n",
       "    <tr>\n",
       "      <th>4</th>\n",
       "      <td>1/5/2017</td>\n",
       "      <td>32</td>\n",
       "      <td>4</td>\n",
       "      <td>Rain</td>\n",
       "    </tr>\n",
       "    <tr>\n",
       "      <th>5</th>\n",
       "      <td>1/6/2017</td>\n",
       "      <td>31</td>\n",
       "      <td>2</td>\n",
       "      <td>Sunny</td>\n",
       "    </tr>\n",
       "  </tbody>\n",
       "</table>\n",
       "</div>"
      ],
      "text/plain": [
       "        day  temperature  windspeed  event\n",
       "0  1/1/2017           32          6   Rain\n",
       "1  1/2/2017           35          7  Sunny\n",
       "2  1/3/2017           28          2   Snow\n",
       "3  1/4/2017           24          7   Snow\n",
       "4  1/5/2017           32          4   Rain\n",
       "5  1/6/2017           31          2  Sunny"
      ]
     },
     "execution_count": 12,
     "metadata": {},
     "output_type": "execute_result"
    }
   ],
   "source": [
    "# Import csv file using pd.read_csv method, Use the weather_data.csv from the pandas folder\n",
    "weather_data = pd.read_csv(\"weather_data.csv\")\n",
    "weather_data"
   ]
  },
  {
   "cell_type": "code",
   "execution_count": 13,
   "metadata": {},
   "outputs": [
    {
     "name": "stdout",
     "output_type": "stream",
     "text": [
      "the content of the weather data in terms of cloumns and index is :\n",
      "        day  temperature  windspeed  event\n",
      "0  1/1/2017           32          6   Rain\n",
      "1  1/2/2017           35          7  Sunny\n",
      "2  1/3/2017           28          2   Snow\n",
      "3  1/4/2017           24          7   Snow\n",
      "4  1/5/2017           32          4   Rain\n",
      "5  1/6/2017           31          2  Sunny\n",
      "\n",
      "Shape of the data frame is : (6, 4)\n"
     ]
    }
   ],
   "source": [
    "# Obtain the columns, index and shape of the above data frame.\n",
    "print('the content of the weather data in terms of cloumns and index is :\\n{}'.format(weather_data))\n",
    "print('\\nShape of the data frame is : {}'.format(weather_data.shape))"
   ]
  },
  {
   "cell_type": "code",
   "execution_count": 14,
   "metadata": {},
   "outputs": [
    {
     "data": {
      "text/html": [
       "<div>\n",
       "<style scoped>\n",
       "    .dataframe tbody tr th:only-of-type {\n",
       "        vertical-align: middle;\n",
       "    }\n",
       "\n",
       "    .dataframe tbody tr th {\n",
       "        vertical-align: top;\n",
       "    }\n",
       "\n",
       "    .dataframe thead th {\n",
       "        text-align: right;\n",
       "    }\n",
       "</style>\n",
       "<table border=\"1\" class=\"dataframe\">\n",
       "  <thead>\n",
       "    <tr style=\"text-align: right;\">\n",
       "      <th></th>\n",
       "      <th>temperature</th>\n",
       "      <th>windspeed</th>\n",
       "    </tr>\n",
       "  </thead>\n",
       "  <tbody>\n",
       "    <tr>\n",
       "      <th>count</th>\n",
       "      <td>6.000000</td>\n",
       "      <td>6.000000</td>\n",
       "    </tr>\n",
       "    <tr>\n",
       "      <th>mean</th>\n",
       "      <td>30.333333</td>\n",
       "      <td>4.666667</td>\n",
       "    </tr>\n",
       "    <tr>\n",
       "      <th>std</th>\n",
       "      <td>3.829708</td>\n",
       "      <td>2.338090</td>\n",
       "    </tr>\n",
       "    <tr>\n",
       "      <th>min</th>\n",
       "      <td>24.000000</td>\n",
       "      <td>2.000000</td>\n",
       "    </tr>\n",
       "    <tr>\n",
       "      <th>25%</th>\n",
       "      <td>28.750000</td>\n",
       "      <td>2.500000</td>\n",
       "    </tr>\n",
       "    <tr>\n",
       "      <th>50%</th>\n",
       "      <td>31.500000</td>\n",
       "      <td>5.000000</td>\n",
       "    </tr>\n",
       "    <tr>\n",
       "      <th>75%</th>\n",
       "      <td>32.000000</td>\n",
       "      <td>6.750000</td>\n",
       "    </tr>\n",
       "    <tr>\n",
       "      <th>max</th>\n",
       "      <td>35.000000</td>\n",
       "      <td>7.000000</td>\n",
       "    </tr>\n",
       "  </tbody>\n",
       "</table>\n",
       "</div>"
      ],
      "text/plain": [
       "       temperature  windspeed\n",
       "count     6.000000   6.000000\n",
       "mean     30.333333   4.666667\n",
       "std       3.829708   2.338090\n",
       "min      24.000000   2.000000\n",
       "25%      28.750000   2.500000\n",
       "50%      31.500000   5.000000\n",
       "75%      32.000000   6.750000\n",
       "max      35.000000   7.000000"
      ]
     },
     "execution_count": 14,
     "metadata": {},
     "output_type": "execute_result"
    }
   ],
   "source": [
    "# Use describe method on the dataframe and write your conclusion\n",
    "weather_data.describe()"
   ]
  },
  {
   "cell_type": "code",
   "execution_count": 15,
   "metadata": {},
   "outputs": [
    {
     "name": "stdout",
     "output_type": "stream",
     "text": [
      "Pandas describe() is used to view some basic statistical details like percentile, mean, std etc.\n",
      "of a data frame or a series of numeric values\n"
     ]
    }
   ],
   "source": [
    "# Conclusion:\n",
    "print('Pandas describe() is used to view some basic statistical details like percentile, mean, std etc.\\nof a data frame or a series of numeric values')"
   ]
  },
  {
   "cell_type": "code",
   "execution_count": null,
   "metadata": {},
   "outputs": [],
   "source": []
  }
 ],
 "metadata": {
  "kernelspec": {
   "display_name": "Python 3",
   "language": "python",
   "name": "python3"
  },
  "language_info": {
   "codemirror_mode": {
    "name": "ipython",
    "version": 3
   },
   "file_extension": ".py",
   "mimetype": "text/x-python",
   "name": "python",
   "nbconvert_exporter": "python",
   "pygments_lexer": "ipython3",
   "version": "3.6.5"
  }
 },
 "nbformat": 4,
 "nbformat_minor": 2
}
